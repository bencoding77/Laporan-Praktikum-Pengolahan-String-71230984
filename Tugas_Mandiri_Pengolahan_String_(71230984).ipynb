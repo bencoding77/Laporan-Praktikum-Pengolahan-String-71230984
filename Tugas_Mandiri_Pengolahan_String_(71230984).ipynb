{
  "nbformat": 4,
  "nbformat_minor": 0,
  "metadata": {
    "colab": {
      "provenance": []
    },
    "kernelspec": {
      "name": "python3",
      "display_name": "Python 3"
    },
    "language_info": {
      "name": "python"
    }
  },
  "cells": [
    {
      "cell_type": "markdown",
      "source": [
        "Soal 1"
      ],
      "metadata": {
        "id": "V3AY2i5_ozC3"
      }
    },
    {
      "cell_type": "code",
      "execution_count": 6,
      "metadata": {
        "colab": {
          "base_uri": "https://localhost:8080/"
        },
        "id": "U9cgQcbQoYq_",
        "outputId": "d59f734b-cf36-4343-b1ef-6d28ee87f328"
      },
      "outputs": [
        {
          "output_type": "stream",
          "name": "stdout",
          "text": [
            "Masukkan kata pertama: AKU AYAM\n",
            "Masukkan kata kedua: Kua Maya\n",
            "Kedua kata adalah anagram\n"
          ]
        }
      ],
      "source": [
        "def anagram():\n",
        "    kata_1 = input(\"Masukkan kata pertama: \")\n",
        "    kata_2 = input(\"Masukkan kata kedua: \")\n",
        "    kata1 = kata_1.lower()\n",
        "    kata2 = kata_2.lower()\n",
        "\n",
        "    kata1s = sorted(kata1)\n",
        "    kata2s = sorted(kata2)\n",
        "\n",
        "    if kata1s == kata2s:\n",
        "        print(\"Kedua kata adalah anagram\")\n",
        "    else:\n",
        "        print(\"Kedua kata bukanlah anagram.\")\n",
        "anagram()"
      ]
    },
    {
      "cell_type": "markdown",
      "source": [
        "Soal 2"
      ],
      "metadata": {
        "id": "YPMTyNFYpPJ2"
      }
    },
    {
      "cell_type": "code",
      "source": [
        "def frekuensi_kata(kalimat, kata):\n",
        "    kalimat_murni = kalimat.replace(\".\", \"\").replace(\",\", \"\").replace(\"!\", \"\").replace(\"?\", \"\").replace(\";\", \"\").replace(\":\", \"\")\n",
        "    kalimat_new = kalimat_murni.lower()\n",
        "    kata1 = kalimat_new.split()\n",
        "\n",
        "    frekuensi = 0\n",
        "    for kata2 in kata1:\n",
        "        if kata2 == kata:\n",
        "            frekuensi += 1\n",
        "    return frekuensi\n",
        "\n",
        "kalimat = input(\"Masukkan kalimat anda: \")\n",
        "kata = input(\"Masukkan kata yang ingin di cari: \")\n",
        "frekuensi = frekuensi_kata(kalimat, kata)\n",
        "print(f\"{kata} ada {frekuensi} kali di kalimat tersebut.\")"
      ],
      "metadata": {
        "colab": {
          "base_uri": "https://localhost:8080/"
        },
        "id": "W-VbAv0spQrx",
        "outputId": "b1e3f765-ddca-44a9-866a-2b808f93e63f"
      },
      "execution_count": 3,
      "outputs": [
        {
          "output_type": "stream",
          "name": "stdout",
          "text": [
            "Masukkan kalimat anda: Saya makan ayam. Ayam adalah makanan kesukaan saya. Makan harus dengan ayam\n",
            "Masukkan kata yang ingin di cari: ayam\n",
            "ayam ada 3 kali di kalimat tersebut.\n"
          ]
        }
      ]
    },
    {
      "cell_type": "markdown",
      "source": [
        "Soal 3"
      ],
      "metadata": {
        "id": "IICHUpRZp6Gq"
      }
    },
    {
      "cell_type": "code",
      "source": [
        "def hapus_spasi_berlebih():\n",
        "    kata2 = kata.split()\n",
        "    kalimat_normal = \" \".join(kata2)\n",
        "    return kalimat_normal\n",
        "\n",
        "kata = input(\"Masukkan kalimat anda: \")\n",
        "kalimat_normal = hapus_spasi_berlebih()\n",
        "print(f\"Output: {kalimat_normal}\")"
      ],
      "metadata": {
        "colab": {
          "base_uri": "https://localhost:8080/"
        },
        "id": "P6agV2fTp8WK",
        "outputId": "7b4cafbb-9c57-4391-f721-f04385083aaa"
      },
      "execution_count": 4,
      "outputs": [
        {
          "output_type": "stream",
          "name": "stdout",
          "text": [
            "Masukkan kalimat anda: Saya         makan          ayam\n",
            "Output: Saya makan ayam\n"
          ]
        }
      ]
    },
    {
      "cell_type": "markdown",
      "source": [
        "Soal 4"
      ],
      "metadata": {
        "id": "3_I7WGaoqQGJ"
      }
    },
    {
      "cell_type": "code",
      "source": [
        "def terpendek_terpanjang():\n",
        "    katas = kalimat.split()\n",
        "    terpendek = katas[0]\n",
        "    terpanjang = katas[0]\n",
        "    for kata in katas:\n",
        "        if len(kata) < len(terpendek):\n",
        "            terpendek = kata\n",
        "        elif len(kata) > len(terpanjang):\n",
        "            terpanjang = kata\n",
        "    return terpendek, terpanjang\n",
        "\n",
        "kalimat = input(\"Masukkan kalimat anda: \")\n",
        "terpendek, terpanjang = terpendek_terpanjang()\n",
        "print(f\"Kata terpendek = {terpendek} dan kata terpanjang = {terpanjang}\")"
      ],
      "metadata": {
        "colab": {
          "base_uri": "https://localhost:8080/"
        },
        "id": "CYTqFjVSqRp9",
        "outputId": "2147add0-83d3-43ac-8f75-9bee24e3ee86"
      },
      "execution_count": 5,
      "outputs": [
        {
          "output_type": "stream",
          "name": "stdout",
          "text": [
            "Masukkan kalimat anda: Saya makan bebek bakar bersama keluarga saya\n",
            "Kata terpendek = Saya dan kata terpanjang = keluarga\n"
          ]
        }
      ]
    }
  ]
}